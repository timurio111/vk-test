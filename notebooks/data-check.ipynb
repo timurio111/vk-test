{
 "cells": [
  {
   "cell_type": "code",
   "execution_count": 6,
   "metadata": {},
   "outputs": [],
   "source": [
    "import pandas as pd\n",
    "from scipy.stats import t\n",
    "import numpy as np\n",
    "\n",
    "def grubbs_test(data, alpha=0.05):\n",
    "    \"\"\"\n",
    "    Проводит тест Граббса для выявления выбросов в данных.\n",
    "    \"\"\"\n",
    "    n = len(data)\n",
    "    if n < 3:\n",
    "        return False\n",
    "    mean = data.mean()\n",
    "    std = data.std()\n",
    "    G = max(abs(data - mean)) / std\n",
    "    t_crit = t.ppf(1 - alpha / (2 * n), n - 2)\n",
    "    G_crit = (n - 1) / np.sqrt(n) * np.sqrt(t_crit**2 / (n - 2 + t_crit**2))\n",
    "    \n",
    "    return G > G_crit"
   ]
  },
  {
   "cell_type": "code",
   "execution_count": 8,
   "metadata": {},
   "outputs": [
    {
     "name": "stdout",
     "output_type": "stream",
     "text": [
      "Выбросов нет, всё круто!\n"
     ]
    }
   ],
   "source": [
    "\n",
    "df = pd.read_csv('../data/intern_task.csv')\n",
    "\n",
    "for col in list(df.columns):\n",
    "    if grubbs_test(df['rank']):\n",
    "        print(\"Выбросы найдены в столбце 'rank'\")\n",
    "else:\n",
    "    print(\"Выбросов нет, всё круто!\")"
   ]
  },
  {
   "cell_type": "code",
   "execution_count": null,
   "metadata": {},
   "outputs": [],
   "source": []
  }
 ],
 "metadata": {
  "kernelspec": {
   "display_name": "my-env",
   "language": "python",
   "name": "python3"
  },
  "language_info": {
   "codemirror_mode": {
    "name": "ipython",
    "version": 3
   },
   "file_extension": ".py",
   "mimetype": "text/x-python",
   "name": "python",
   "nbconvert_exporter": "python",
   "pygments_lexer": "ipython3",
   "version": "3.8.18"
  }
 },
 "nbformat": 4,
 "nbformat_minor": 2
}
